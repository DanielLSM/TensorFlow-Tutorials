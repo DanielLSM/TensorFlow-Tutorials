{
 "cells": [
  {
   "cell_type": "code",
   "execution_count": null,
   "metadata": {
    "collapsed": true
   },
   "outputs": [],
   "source": [
    "import numpy as np\n",
    "import tensorflow as tf"
   ]
  },
  {
   "cell_type": "code",
   "execution_count": null,
   "metadata": {
    "collapsed": true
   },
   "outputs": [],
   "source": [
    "# Defining our regression model.\n",
    "def model(x, y):\n",
    "    # 3 Powerful weights to rule them all, theta_0, theta_1, theta_2\n",
    "    w = tf.get_variable(\"w\", shape=[3, 1])\n",
    "    # Our function, which will be from the type theta_2 * x^2 + theta_1 * x + theta_0 * 1 \n",
    "    f = tf.stack([tf.square(x), x, tf.ones_like(x)], 1)\n",
    "    # Our prediction of yhat given x\n",
    "    yhat = tf.squeeze(tf.matmul(f, w), 1)\n",
    "    # Mean squared error between the prediction yhat and the real y. \n",
    "    # Basically minimizing the vertical distance between our predictions and the data points\n",
    "    loss = tf.square(yhat - y)\n",
    "    return loss"
   ]
  },
  {
   "cell_type": "code",
   "execution_count": null,
   "metadata": {
    "collapsed": true
   },
   "outputs": [],
   "source": [
    "# Placing our data on efficient TensorFlow nodes\n",
    "x = tf.placeholder(tf.float32)\n",
    "y = tf.placeholder(tf.float32)\n",
    "# The method model is building a graph, we will not actially run the method N times\n",
    "# or this would create N graphs. We will feed the nodes in our graph just like\n",
    "# in part 1.1. The loss holds a tensor (node).\n",
    "loss = model(x, y)"
   ]
  },
  {
   "cell_type": "code",
   "execution_count": null,
   "metadata": {
    "collapsed": true
   },
   "outputs": [],
   "source": [
    "# Defining an optimizer for our model. We are realling killing a fly\n",
    "# with a bazooka. But Adam is a very powerful stochasitc method\n",
    "# we call it with a learning rate of 0.1, and we minimize\n",
    "# the summed mean of the loss. This will propagate the gradients\n",
    "# through the node loss.\n",
    "train_op = tf.train.AdamOptimizer(0.1).minimize(\n",
    "    tf.reduce_mean(loss))"
   ]
  },
  {
   "cell_type": "code",
   "execution_count": null,
   "metadata": {
    "collapsed": true
   },
   "outputs": [],
   "source": [
    "# generate data from 5x^2 + 3 with a uniform distribution\n",
    "def generate_data():\n",
    "    x_val = np.random.uniform(-10.0, 10.0, size=100)\n",
    "    y_val = 5 * np.square(x_val) + 3\n",
    "    return x_val, y_val"
   ]
  },
  {
   "cell_type": "code",
   "execution_count": null,
   "metadata": {
    "collapsed": true
   },
   "outputs": [],
   "source": [
    "# Start a session and initialize those weights from the model!\n",
    "sess = tf.Session()\n",
    "sess.run(tf.global_variables_initializer())\n",
    "# One thousand iterations of an ADAM optimizer\n",
    "for _ in range(1000):\n",
    "    x_val, y_val = generate_data()\n",
    "    _, loss_val = sess.run([train_op, loss], {x: x_val, y: y_val})\n",
    "\n",
    "_, loss_val = sess.run([train_op, loss], {x: x_val, y: y_val})\n",
    "print(sess.run(tf.contrib.framework.get_variables_by_name(\"w\")))"
   ]
  }
 ],
 "metadata": {
  "kernelspec": {
   "display_name": "Python [conda env:NIPS_FINAL]",
   "language": "python",
   "name": "conda-env-NIPS_FINAL-py"
  },
  "language_info": {
   "codemirror_mode": {
    "name": "ipython",
    "version": 3
   },
   "file_extension": ".py",
   "mimetype": "text/x-python",
   "name": "python",
   "nbconvert_exporter": "python",
   "pygments_lexer": "ipython3",
   "version": "3.6.2"
  }
 },
 "nbformat": 4,
 "nbformat_minor": 2
}
